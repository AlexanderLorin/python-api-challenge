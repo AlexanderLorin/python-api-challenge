{
 "cells": [
  {
   "cell_type": "markdown",
   "source": [
    "# WeatherPy\n",
    "----\n",
    "\n",
    "#### Note\n",
    "* Instructions have been included for each segment. You do not have to follow them exactly, but they are included to help you think through the steps."
   ],
   "metadata": {}
  },
  {
   "cell_type": "code",
   "execution_count": 1,
   "source": [
    "# Dependencies and Setup\n",
    "import matplotlib.pyplot as plt\n",
    "import pandas as pd\n",
    "import numpy as np\n",
    "import requests\n",
    "import time\n",
    "from scipy.stats import linregress\n",
    "from scipy import stats\n",
    "import json\n",
    "import csv\n",
    "\n",
    "# Import API key\n",
    "from api_keys import weather_api_key\n",
    "\n",
    "# Incorporated citipy to determine city based on latitude and longitude\n",
    "from citipy import citipy\n",
    "\n",
    "# Output File (CSV)\n",
    "output_data_file = \"output_data/cities.csv\"\n",
    "\n",
    "# Range of latitudes and longitudes\n",
    "lat_range = (-90, 90)\n",
    "lng_range = (-180, 180)"
   ],
   "outputs": [],
   "metadata": {
    "scrolled": true
   }
  },
  {
   "cell_type": "markdown",
   "source": [
    "## Generate Cities List"
   ],
   "metadata": {}
  },
  {
   "cell_type": "code",
   "execution_count": 2,
   "source": [
    "# List for holding lat_lngs and cities\n",
    "lat_lngs = []\n",
    "cities = []\n",
    "\n",
    "# Create a set of random lat and lng combinations\n",
    "lats = np.random.uniform(lat_range[0], lat_range[1], size=1500)\n",
    "lngs = np.random.uniform(lng_range[0], lng_range[1], size=1500)\n",
    "lat_lngs = zip(lats, lngs)\n",
    "\n",
    "# Identify nearest city for each lat, lng combination\n",
    "for lat_lng in lat_lngs:\n",
    "    city = citipy.nearest_city(lat_lng[0], lat_lng[1]).city_name\n",
    "    \n",
    "    # If the city is unique, then add it to a our cities list\n",
    "    if city not in cities:\n",
    "        cities.append(city)\n",
    "\n",
    "# Print the city count to confirm sufficient count\n",
    "len(cities)"
   ],
   "outputs": [
    {
     "output_type": "execute_result",
     "data": {
      "text/plain": [
       "626"
      ]
     },
     "metadata": {},
     "execution_count": 2
    }
   ],
   "metadata": {}
  },
  {
   "cell_type": "markdown",
   "source": [
    "### Perform API Calls\n",
    "* Perform a weather check on each city using a series of successive API calls.\n",
    "* Include a print log of each city as it'sbeing processed (with the city number and city name).\n"
   ],
   "metadata": {}
  },
  {
   "cell_type": "code",
   "execution_count": 3,
   "source": [
    "\n",
    "#assign variable for OpenWeatherMap API \n",
    "weather_url = \"http://api.openweathermap.org/data/2.5/weather?q=\"\n",
    "\n",
    "#assign variables for starting numbers\n",
    "rec_num = 1\n",
    "set_num = 1\n",
    "city_data = []\n",
    "# City\", \"Lat\", \"Lng\", \"Max Temp\", \"Humidity\", \"Cloudiness\", \"Wind Speed\", \"Country\", \"Date\"\n",
    "\n",
    "print(f\"\"\"\n",
    "Beginning Data Retrieval     \n",
    "-----------------------------\n",
    "    \"\"\")\n",
    "#for loop through cities and print logs\n",
    "for city in cities:\n",
    "    try:\n",
    "        #get json objects from api\n",
    "        query_url = weather_url + city + \"&units=imperial\"+\"&appid=\" + weather_api_key\n",
    "        response = requests.get(query_url).json()\n",
    "        \n",
    "        #obtain json data to create dataframe\n",
    "        city_name = response[\"name\"]\n",
    "        city_lat = response[\"coord\"][\"lat\"]\n",
    "        city_lng = response[\"coord\"][\"lon\"]\n",
    "        city_max_temp = response[\"main\"][\"temp_max\"]\n",
    "        city_humidity = response[\"main\"][\"humidity\"]\n",
    "        city_cloudiness = response[\"clouds\"][\"all\"]\n",
    "        city_wind = response[\"wind\"][\"speed\"]\n",
    "        city_country = response[\"sys\"][\"country\"]\n",
    "        city_date = response[\"dt\"]\n",
    "        \n",
    "        #add city information to city_data\n",
    "        city_data.append({\"City\":city_name,\n",
    "                          \"Lat\":city_lat,\n",
    "                          \"Lng\":city_lng,\n",
    "                          \"Max Temp\":city_max_temp,\n",
    "                          \"Humidity\":city_humidity,\n",
    "                          \"Cloudiness\":city_cloudiness,\n",
    "                          \"Wind Speed\":city_wind,\n",
    "                          \"Country\":city_country,\n",
    "                          \"Date\":city_date})\n",
    "        \n",
    "        \n",
    "        \n",
    "        print(f\"Processing Record {rec_num} of Set {set_num} | {city_name}\"\"\")\n",
    "        \n",
    "        if rec_num == 50:\n",
    "            rec_num = 1\n",
    "            set_num +=1\n",
    "        else:\n",
    "            rec_num +=1\n",
    "    #if the city is not found, print \"City not found. Skipping...\"        \n",
    "    except (KeyError):\n",
    "        print(\"City not found. Skipping...\")\n",
    "print(f\"\"\"-----------------------------\n",
    "Data Retrieval Complete      \n",
    "-----------------------------\"\"\")\n",
    "    "
   ],
   "outputs": [
    {
     "output_type": "stream",
     "name": "stdout",
     "text": [
      "\n",
      "Beginning Data Retrieval     \n",
      "-----------------------------\n",
      "    \n",
      "Processing Record 1 of Set 1 | Vaini\n",
      "Processing Record 2 of Set 1 | Ushuaia\n",
      "Processing Record 3 of Set 1 | Bredasdorp\n",
      "Processing Record 4 of Set 1 | Peñarroya-Pueblonuevo\n",
      "Processing Record 5 of Set 1 | Puerto Ayora\n",
      "Processing Record 6 of Set 1 | Polson\n",
      "Processing Record 7 of Set 1 | Canutama\n",
      "Processing Record 8 of Set 1 | Kapaa\n",
      "Processing Record 9 of Set 1 | Hong Kong\n",
      "Processing Record 10 of Set 1 | Dikson\n",
      "Processing Record 11 of Set 1 | Grasse\n",
      "Processing Record 12 of Set 1 | Atuona\n",
      "Processing Record 13 of Set 1 | Bluff\n",
      "Processing Record 14 of Set 1 | Bud\n",
      "City not found. Skipping...\n",
      "Processing Record 15 of Set 1 | Qaanaaq\n",
      "Processing Record 16 of Set 1 | Ugoofaaru\n",
      "Processing Record 17 of Set 1 | Jamestown\n",
      "Processing Record 18 of Set 1 | Avarua\n",
      "Processing Record 19 of Set 1 | Saint-Philippe\n",
      "Processing Record 20 of Set 1 | East London\n",
      "Processing Record 21 of Set 1 | Bethel\n",
      "Processing Record 22 of Set 1 | Shelopugino\n",
      "Processing Record 23 of Set 1 | Rikitea\n",
      "Processing Record 24 of Set 1 | Takoradze\n",
      "Processing Record 25 of Set 1 | Hobart\n",
      "Processing Record 26 of Set 1 | Sitka\n",
      "Processing Record 27 of Set 1 | Barrow\n",
      "Processing Record 28 of Set 1 | Staraya Poltavka\n",
      "Processing Record 29 of Set 1 | Hilo\n",
      "Processing Record 30 of Set 1 | Bathsheba\n",
      "Processing Record 31 of Set 1 | Seoul\n",
      "Processing Record 32 of Set 1 | Lüderitz\n",
      "Processing Record 33 of Set 1 | Eureka\n",
      "Processing Record 34 of Set 1 | Laiyang\n",
      "City not found. Skipping...\n",
      "City not found. Skipping...\n",
      "Processing Record 35 of Set 1 | Hermanus\n",
      "City not found. Skipping...\n",
      "Processing Record 36 of Set 1 | Los Llanos de Aridane\n",
      "Processing Record 37 of Set 1 | Teguise\n",
      "Processing Record 38 of Set 1 | Tasiilaq\n",
      "Processing Record 39 of Set 1 | Port Elizabeth\n",
      "Processing Record 40 of Set 1 | Talara\n",
      "Processing Record 41 of Set 1 | Vardø\n",
      "Processing Record 42 of Set 1 | Tura\n",
      "Processing Record 43 of Set 1 | Tetiz\n",
      "Processing Record 44 of Set 1 | Tiksi\n",
      "Processing Record 45 of Set 1 | Port Alfred\n",
      "Processing Record 46 of Set 1 | Castro\n",
      "Processing Record 47 of Set 1 | Cape Town\n",
      "Processing Record 48 of Set 1 | Busselton\n",
      "Processing Record 49 of Set 1 | Oriximiná\n",
      "Processing Record 50 of Set 1 | Noyabrsk\n",
      "Processing Record 1 of Set 2 | Port-Gentil\n",
      "Processing Record 2 of Set 2 | Punta Arenas\n",
      "Processing Record 3 of Set 2 | Gombong\n",
      "Processing Record 4 of Set 2 | Henties Bay\n",
      "Processing Record 5 of Set 2 | New Norfolk\n",
      "Processing Record 6 of Set 2 | Necochea\n",
      "City not found. Skipping...\n",
      "Processing Record 7 of Set 2 | Kristinestad\n",
      "Processing Record 8 of Set 2 | Turukhansk\n",
      "Processing Record 9 of Set 2 | Pevek\n",
      "Processing Record 10 of Set 2 | Cabo San Lucas\n",
      "Processing Record 11 of Set 2 | George Town\n",
      "Processing Record 12 of Set 2 | Meulaboh\n",
      "Processing Record 13 of Set 2 | Ikom\n",
      "Processing Record 14 of Set 2 | Ribeira Grande\n",
      "Processing Record 15 of Set 2 | Tuktoyaktuk\n",
      "Processing Record 16 of Set 2 | Kumul\n",
      "Processing Record 17 of Set 2 | Fortuna\n",
      "Processing Record 18 of Set 2 | Saldanha\n",
      "Processing Record 19 of Set 2 | Malakal\n",
      "Processing Record 20 of Set 2 | Mataura\n",
      "Processing Record 21 of Set 2 | Hasaki\n",
      "Processing Record 22 of Set 2 | Albany\n",
      "Processing Record 23 of Set 2 | Quatre Cocos\n",
      "Processing Record 24 of Set 2 | Chui\n",
      "Processing Record 25 of Set 2 | Provideniya\n",
      "Processing Record 26 of Set 2 | Geraldton\n",
      "City not found. Skipping...\n",
      "Processing Record 27 of Set 2 | Loíza\n",
      "Processing Record 28 of Set 2 | Akim Swedru\n",
      "Processing Record 29 of Set 2 | Trairi\n",
      "Processing Record 30 of Set 2 | Fairbanks\n",
      "Processing Record 31 of Set 2 | Ponta Delgada\n",
      "Processing Record 32 of Set 2 | Peterhead\n",
      "Processing Record 33 of Set 2 | Adrar\n",
      "Processing Record 34 of Set 2 | Assiut\n",
      "City not found. Skipping...\n",
      "Processing Record 35 of Set 2 | Srednekolymsk\n",
      "Processing Record 36 of Set 2 | Klaksvík\n",
      "Processing Record 37 of Set 2 | Clyde River\n",
      "Processing Record 38 of Set 2 | Jablah\n",
      "Processing Record 39 of Set 2 | Port Lincoln\n",
      "Processing Record 40 of Set 2 | Souillac\n",
      "Processing Record 41 of Set 2 | Laas\n",
      "Processing Record 42 of Set 2 | Liverpool\n",
      "Processing Record 43 of Set 2 | Hithadhoo\n",
      "Processing Record 44 of Set 2 | Arraial do Cabo\n",
      "City not found. Skipping...\n",
      "Processing Record 45 of Set 2 | Kruisfontein\n",
      "Processing Record 46 of Set 2 | Challapata\n",
      "Processing Record 47 of Set 2 | Araouane\n",
      "City not found. Skipping...\n",
      "Processing Record 48 of Set 2 | Salym\n",
      "Processing Record 49 of Set 2 | Paragominas\n",
      "Processing Record 50 of Set 2 | Saskylakh\n",
      "Processing Record 1 of Set 3 | Sørland\n",
      "Processing Record 2 of Set 3 | Mont-Joli\n",
      "Processing Record 3 of Set 3 | Butaritari\n",
      "Processing Record 4 of Set 3 | Nome\n",
      "Processing Record 5 of Set 3 | Yellowknife\n",
      "Processing Record 6 of Set 3 | Haimen\n",
      "Processing Record 7 of Set 3 | Barranca\n",
      "Processing Record 8 of Set 3 | Ust'-Ilimsk\n",
      "Processing Record 9 of Set 3 | Varkala\n",
      "Processing Record 10 of Set 3 | Alofi\n",
      "Processing Record 11 of Set 3 | Terney\n",
      "Processing Record 12 of Set 3 | Hofn\n",
      "Processing Record 13 of Set 3 | Lima\n",
      "Processing Record 14 of Set 3 | Sola\n",
      "Processing Record 15 of Set 3 | Peachland\n",
      "Processing Record 16 of Set 3 | Elko\n",
      "Processing Record 17 of Set 3 | Ponta do Sol\n",
      "City not found. Skipping...\n",
      "Processing Record 18 of Set 3 | Manta\n",
      "Processing Record 19 of Set 3 | Constitución\n",
      "Processing Record 20 of Set 3 | Bara\n",
      "City not found. Skipping...\n",
      "Processing Record 21 of Set 3 | Araguaçu\n",
      "Processing Record 22 of Set 3 | Ingham\n",
      "Processing Record 23 of Set 3 | Fuerte\n",
      "Processing Record 24 of Set 3 | Waingapu\n",
      "Processing Record 25 of Set 3 | Zapolyarnyy\n",
      "Processing Record 26 of Set 3 | Mehamn\n",
      "Processing Record 27 of Set 3 | Margate\n",
      "Processing Record 28 of Set 3 | Naviraí\n",
      "Processing Record 29 of Set 3 | Nangong\n",
      "Processing Record 30 of Set 3 | Norman Wells\n",
      "Processing Record 31 of Set 3 | Ust'-Karsk\n",
      "Processing Record 32 of Set 3 | Krasnosel'kup\n",
      "Processing Record 33 of Set 3 | Carnarvon\n",
      "Processing Record 34 of Set 3 | Narsaq\n",
      "Processing Record 35 of Set 3 | Chokurdakh\n",
      "Processing Record 36 of Set 3 | Katsuura\n",
      "Processing Record 37 of Set 3 | Langenburg\n",
      "Processing Record 38 of Set 3 | Longyearbyen\n",
      "Processing Record 39 of Set 3 | Prado\n",
      "Processing Record 40 of Set 3 | Neryungri\n",
      "City not found. Skipping...\n",
      "Processing Record 41 of Set 3 | Gornopravdinsk\n",
      "Processing Record 42 of Set 3 | Airai\n",
      "Processing Record 43 of Set 3 | Salalah\n",
      "Processing Record 44 of Set 3 | Kavieng\n",
      "City not found. Skipping...\n",
      "Processing Record 45 of Set 3 | Ilo\n",
      "Processing Record 46 of Set 3 | Celestún\n",
      "Processing Record 47 of Set 3 | Cherskiy\n",
      "Processing Record 48 of Set 3 | Itupiranga\n",
      "Processing Record 49 of Set 3 | Kazygurt\n",
      "Processing Record 50 of Set 3 | Merauke\n",
      "City not found. Skipping...\n",
      "Processing Record 1 of Set 4 | Severo-Kuril'sk\n",
      "Processing Record 2 of Set 4 | Boyolangu\n",
      "Processing Record 3 of Set 4 | Kropotkin\n",
      "Processing Record 4 of Set 4 | Santander\n",
      "Processing Record 5 of Set 4 | Sibut\n",
      "Processing Record 6 of Set 4 | Sidrolândia\n",
      "City not found. Skipping...\n",
      "Processing Record 7 of Set 4 | Touros\n",
      "Processing Record 8 of Set 4 | Husavik\n",
      "Processing Record 9 of Set 4 | Shitanjing\n",
      "Processing Record 10 of Set 4 | Bubaque\n",
      "Processing Record 11 of Set 4 | Upernavik\n",
      "Processing Record 12 of Set 4 | Saint Paul Harbor\n",
      "Processing Record 13 of Set 4 | Byron Bay\n",
      "Processing Record 14 of Set 4 | Mar del Plata\n",
      "Processing Record 15 of Set 4 | Panguna\n",
      "Processing Record 16 of Set 4 | Yar-Sale\n",
      "Processing Record 17 of Set 4 | Alice Springs\n",
      "Processing Record 18 of Set 4 | Palencia\n",
      "Processing Record 19 of Set 4 | Mayumba\n",
      "Processing Record 20 of Set 4 | Ilhabela\n",
      "City not found. Skipping...\n",
      "Processing Record 21 of Set 4 | San Cristobal\n",
      "Processing Record 22 of Set 4 | Porto-Novo\n",
      "Processing Record 23 of Set 4 | Leshukonskoye\n",
      "Processing Record 24 of Set 4 | Khatanga\n",
      "Processing Record 25 of Set 4 | Port Macquarie\n",
      "Processing Record 26 of Set 4 | Nanortalik\n",
      "City not found. Skipping...\n",
      "Processing Record 27 of Set 4 | Tombouctou\n",
      "Processing Record 28 of Set 4 | Saint George\n",
      "Processing Record 29 of Set 4 | San Patricio\n",
      "Processing Record 30 of Set 4 | Emerald\n",
      "Processing Record 31 of Set 4 | Kitui\n",
      "Processing Record 32 of Set 4 | Kaitangata\n",
      "Processing Record 33 of Set 4 | Havre-St-Pierre\n",
      "Processing Record 34 of Set 4 | Bambous Virieux\n",
      "Processing Record 35 of Set 4 | Charlestown\n",
      "Processing Record 36 of Set 4 | Bourail\n"
     ]
    },
    {
     "output_type": "stream",
     "name": "stdout",
     "text": [
      "Processing Record 37 of Set 4 | Ibrā’\n",
      "City not found. Skipping...\n",
      "Processing Record 38 of Set 4 | Prince Rupert\n",
      "Processing Record 39 of Set 4 | Sioux Lookout\n",
      "Processing Record 40 of Set 4 | Mezhdurechensk\n",
      "Processing Record 41 of Set 4 | Grindavik\n",
      "City not found. Skipping...\n",
      "Processing Record 42 of Set 4 | Lompoc\n",
      "Processing Record 43 of Set 4 | Arinos\n",
      "Processing Record 44 of Set 4 | Mendi\n",
      "Processing Record 45 of Set 4 | Bose\n",
      "Processing Record 46 of Set 4 | Puerto del Rosario\n",
      "Processing Record 47 of Set 4 | Caxito\n",
      "Processing Record 48 of Set 4 | Fare\n",
      "Processing Record 49 of Set 4 | Kununurra\n",
      "Processing Record 50 of Set 4 | Panacan\n",
      "Processing Record 1 of Set 5 | Bengkulu\n",
      "Processing Record 2 of Set 5 | Pontal do Paraná\n",
      "Processing Record 3 of Set 5 | Atambua\n",
      "Processing Record 4 of Set 5 | Pisco\n",
      "Processing Record 5 of Set 5 | Aksarka\n",
      "Processing Record 6 of Set 5 | Evensk\n",
      "Processing Record 7 of Set 5 | Esperance\n",
      "Processing Record 8 of Set 5 | Isangel\n",
      "Processing Record 9 of Set 5 | Goderich\n",
      "Processing Record 10 of Set 5 | Sandwick\n",
      "Processing Record 11 of Set 5 | Lensk\n",
      "Processing Record 12 of Set 5 | Almeirim\n",
      "Processing Record 13 of Set 5 | Vao\n",
      "Processing Record 14 of Set 5 | Mto wa Mbu\n",
      "City not found. Skipping...\n",
      "Processing Record 15 of Set 5 | Kieta\n",
      "Processing Record 16 of Set 5 | Ziarat\n",
      "Processing Record 17 of Set 5 | Mae Chan\n",
      "City not found. Skipping...\n",
      "Processing Record 18 of Set 5 | Pitsunda\n",
      "Processing Record 19 of Set 5 | Lehola\n",
      "Processing Record 20 of Set 5 | Tabou\n",
      "Processing Record 21 of Set 5 | Angoram\n",
      "Processing Record 22 of Set 5 | Mahébourg\n",
      "City not found. Skipping...\n",
      "Processing Record 23 of Set 5 | Broome\n",
      "Processing Record 24 of Set 5 | Soyo\n",
      "Processing Record 25 of Set 5 | Popova\n",
      "Processing Record 26 of Set 5 | Crib Point\n",
      "Processing Record 27 of Set 5 | Puerto Carreño\n",
      "Processing Record 28 of Set 5 | Plouzané\n",
      "Processing Record 29 of Set 5 | Wewak\n",
      "Processing Record 30 of Set 5 | Paamiut\n",
      "City not found. Skipping...\n",
      "Processing Record 31 of Set 5 | Najrān\n",
      "Processing Record 32 of Set 5 | Decatur\n",
      "Processing Record 33 of Set 5 | Rundu\n",
      "City not found. Skipping...\n",
      "Processing Record 34 of Set 5 | Harper\n",
      "Processing Record 35 of Set 5 | Ambilobe\n",
      "Processing Record 36 of Set 5 | Torbay\n",
      "Processing Record 37 of Set 5 | Hobyo\n",
      "Processing Record 38 of Set 5 | Seminole\n",
      "Processing Record 39 of Set 5 | Beyneu\n",
      "Processing Record 40 of Set 5 | Cochrane\n",
      "City not found. Skipping...\n",
      "Processing Record 41 of Set 5 | Mayo\n",
      "Processing Record 42 of Set 5 | Qui Nhon\n",
      "Processing Record 43 of Set 5 | Cockburn Town\n",
      "Processing Record 44 of Set 5 | Nikolskoye\n",
      "Processing Record 45 of Set 5 | Zyryanovsk\n",
      "Processing Record 46 of Set 5 | Arman'\n",
      "Processing Record 47 of Set 5 | Bonfim\n",
      "Processing Record 48 of Set 5 | Mergen\n",
      "Processing Record 49 of Set 5 | Rāmhormoz\n",
      "Processing Record 50 of Set 5 | Curuguaty\n",
      "Processing Record 1 of Set 6 | Trincomalee\n",
      "Processing Record 2 of Set 6 | Abilene\n",
      "Processing Record 3 of Set 6 | Erenhot\n",
      "Processing Record 4 of Set 6 | Kiama\n",
      "Processing Record 5 of Set 6 | Usinsk\n",
      "Processing Record 6 of Set 6 | Ponferrada\n",
      "Processing Record 7 of Set 6 | Tiarei\n",
      "Processing Record 8 of Set 6 | Ostrovnoy\n",
      "Processing Record 9 of Set 6 | Keffi\n",
      "Processing Record 10 of Set 6 | Iskateley\n",
      "Processing Record 11 of Set 6 | Kalmunai\n",
      "Processing Record 12 of Set 6 | Mount Isa\n",
      "Processing Record 13 of Set 6 | Kefamenanu\n",
      "Processing Record 14 of Set 6 | Nhulunbuy\n",
      "Processing Record 15 of Set 6 | San Angelo\n",
      "Processing Record 16 of Set 6 | Dingle\n",
      "Processing Record 17 of Set 6 | Tottenham\n",
      "Processing Record 18 of Set 6 | Saint Anthony\n",
      "Processing Record 19 of Set 6 | Narganá\n",
      "Processing Record 20 of Set 6 | Agüimes\n",
      "City not found. Skipping...\n",
      "Processing Record 21 of Set 6 | Sisimiut\n",
      "Processing Record 22 of Set 6 | Nagato\n",
      "City not found. Skipping...\n",
      "City not found. Skipping...\n",
      "Processing Record 23 of Set 6 | Northam\n",
      "City not found. Skipping...\n",
      "Processing Record 24 of Set 6 | Cham\n",
      "City not found. Skipping...\n",
      "Processing Record 25 of Set 6 | Giyani\n",
      "Processing Record 26 of Set 6 | Krian\n",
      "Processing Record 27 of Set 6 | Broken Hill\n",
      "Processing Record 28 of Set 6 | Xingyi\n",
      "City not found. Skipping...\n",
      "Processing Record 29 of Set 6 | Okhotsk\n",
      "Processing Record 30 of Set 6 | Havelock\n",
      "Processing Record 31 of Set 6 | Naze\n",
      "Processing Record 32 of Set 6 | Mombaça\n",
      "Processing Record 33 of Set 6 | Pestretsy\n",
      "Processing Record 34 of Set 6 | Pochutla\n",
      "Processing Record 35 of Set 6 | Rocha\n",
      "Processing Record 36 of Set 6 | Soure\n",
      "Processing Record 37 of Set 6 | Bucerías\n",
      "Processing Record 38 of Set 6 | Kumluca\n",
      "Processing Record 39 of Set 6 | Sosnogorsk\n",
      "Processing Record 40 of Set 6 | Santa María del Oro\n",
      "Processing Record 41 of Set 6 | Poum\n",
      "City not found. Skipping...\n",
      "Processing Record 42 of Set 6 | Tulun\n",
      "Processing Record 43 of Set 6 | Pangnirtung\n",
      "Processing Record 44 of Set 6 | Dunmore Town\n",
      "City not found. Skipping...\n",
      "Processing Record 45 of Set 6 | Hearst\n",
      "Processing Record 46 of Set 6 | Peniche\n",
      "Processing Record 47 of Set 6 | Lorengau\n",
      "Processing Record 48 of Set 6 | Zhoucheng\n",
      "Processing Record 49 of Set 6 | Biaora\n",
      "City not found. Skipping...\n",
      "Processing Record 50 of Set 6 | Ilulissat\n",
      "Processing Record 1 of Set 7 | Yerbogachën\n",
      "Processing Record 2 of Set 7 | Minggang\n",
      "Processing Record 3 of Set 7 | Arrondissement de Vire\n",
      "City not found. Skipping...\n",
      "Processing Record 4 of Set 7 | Chernyshevskiy\n",
      "Processing Record 5 of Set 7 | Umluj\n",
      "Processing Record 6 of Set 7 | Abhā\n",
      "Processing Record 7 of Set 7 | Kudahuvadhoo\n",
      "Processing Record 8 of Set 7 | São Filipe\n",
      "Processing Record 9 of Set 7 | Kloulklubed\n",
      "Processing Record 10 of Set 7 | Camacha\n",
      "Processing Record 11 of Set 7 | Carauari\n",
      "Processing Record 12 of Set 7 | Batagay\n",
      "City not found. Skipping...\n",
      "City not found. Skipping...\n",
      "Processing Record 13 of Set 7 | Beloha\n",
      "Processing Record 14 of Set 7 | Bandarbeyla\n",
      "City not found. Skipping...\n",
      "Processing Record 15 of Set 7 | São João da Barra\n",
      "Processing Record 16 of Set 7 | Sistranda\n",
      "Processing Record 17 of Set 7 | Alyangula\n",
      "Processing Record 18 of Set 7 | Ýpsonas\n",
      "City not found. Skipping...\n",
      "Processing Record 19 of Set 7 | Petropavlovsk-Kamchatskiy\n",
      "Processing Record 20 of Set 7 | Guerrero Negro\n",
      "Processing Record 21 of Set 7 | Nuuk\n",
      "Processing Record 22 of Set 7 | Marsá Maţrūḩ\n",
      "Processing Record 23 of Set 7 | Babu\n",
      "City not found. Skipping...\n",
      "Processing Record 24 of Set 7 | Ascension\n",
      "Processing Record 25 of Set 7 | Mocuba\n",
      "Processing Record 26 of Set 7 | Sainte-Suzanne\n",
      "Processing Record 27 of Set 7 | Vestmanna\n",
      "Processing Record 28 of Set 7 | Faanui\n",
      "Processing Record 29 of Set 7 | Namatanai\n",
      "City not found. Skipping...\n",
      "Processing Record 30 of Set 7 | Sept-Îles\n",
      "Processing Record 31 of Set 7 | Victor Harbor\n",
      "Processing Record 32 of Set 7 | Chake Chake\n",
      "Processing Record 33 of Set 7 | Tarazá\n",
      "Processing Record 34 of Set 7 | San Quintín\n",
      "Processing Record 35 of Set 7 | Amapá\n",
      "Processing Record 36 of Set 7 | Kutum\n",
      "Processing Record 37 of Set 7 | Sinnamary\n",
      "Processing Record 38 of Set 7 | Lianzhou\n",
      "Processing Record 39 of Set 7 | Druzhba\n",
      "Processing Record 40 of Set 7 | Portland\n",
      "Processing Record 41 of Set 7 | Luang Prabang\n",
      "Processing Record 42 of Set 7 | Chongwe\n",
      "Processing Record 43 of Set 7 | Mount Gambier\n",
      "Processing Record 44 of Set 7 | Nabire\n",
      "Processing Record 45 of Set 7 | Nioro\n",
      "City not found. Skipping...\n",
      "Processing Record 46 of Set 7 | Greytown\n",
      "Processing Record 47 of Set 7 | Contamana\n",
      "Processing Record 48 of Set 7 | Flinders\n",
      "Processing Record 49 of Set 7 | Bogovarovo\n",
      "Processing Record 50 of Set 7 | San Matías\n",
      "Processing Record 1 of Set 8 | Nanchong\n",
      "Processing Record 2 of Set 8 | Iralaya\n",
      "Processing Record 3 of Set 8 | Gari\n",
      "Processing Record 4 of Set 8 | Bagn\n",
      "Processing Record 5 of Set 8 | Iwanai\n",
      "Processing Record 6 of Set 8 | Opuwo\n",
      "Processing Record 7 of Set 8 | Iquique\n",
      "Processing Record 8 of Set 8 | Mel'nikovo\n",
      "Processing Record 9 of Set 8 | Garoowe\n",
      "Processing Record 10 of Set 8 | Istok\n",
      "Processing Record 11 of Set 8 | Novikovo\n",
      "Processing Record 12 of Set 8 | Inhambane\n",
      "Processing Record 13 of Set 8 | Jumla\n",
      "Processing Record 14 of Set 8 | Tahe\n",
      "Processing Record 15 of Set 8 | Gweta\n",
      "Processing Record 16 of Set 8 | Kwekwe\n",
      "Processing Record 17 of Set 8 | Limbang\n",
      "Processing Record 18 of Set 8 | Sibolga\n",
      "Processing Record 19 of Set 8 | Borogontsy\n",
      "Processing Record 20 of Set 8 | Sulangan\n",
      "Processing Record 21 of Set 8 | Muromtsevo\n",
      "City not found. Skipping...\n"
     ]
    },
    {
     "output_type": "stream",
     "name": "stdout",
     "text": [
      "Processing Record 22 of Set 8 | Comodoro Rivadavia\n",
      "Processing Record 23 of Set 8 | Cayenne\n",
      "Processing Record 24 of Set 8 | Lugovoy\n",
      "Processing Record 25 of Set 8 | Kerva\n",
      "Processing Record 26 of Set 8 | Chimbote\n",
      "Processing Record 27 of Set 8 | Chara\n",
      "Processing Record 28 of Set 8 | Sabang\n",
      "Processing Record 29 of Set 8 | Lebu\n",
      "Processing Record 30 of Set 8 | Jiaojiang\n",
      "Processing Record 31 of Set 8 | Brae\n",
      "Processing Record 32 of Set 8 | Majene\n",
      "Processing Record 33 of Set 8 | Pacific Grove\n",
      "Processing Record 34 of Set 8 | Plettenberg Bay\n",
      "Processing Record 35 of Set 8 | Korhogo\n",
      "Processing Record 36 of Set 8 | Pokrovskoye\n",
      "Processing Record 37 of Set 8 | Gongzhuling\n",
      "Processing Record 38 of Set 8 | Dayong\n",
      "Processing Record 39 of Set 8 | La Santisima Trinidad\n",
      "Processing Record 40 of Set 8 | Trelew\n",
      "Processing Record 41 of Set 8 | Seddon\n",
      "Processing Record 42 of Set 8 | Nishihara\n",
      "Processing Record 43 of Set 8 | Ulladulla\n",
      "City not found. Skipping...\n",
      "Processing Record 44 of Set 8 | Zyryanka\n",
      "Processing Record 45 of Set 8 | Biltine\n",
      "Processing Record 46 of Set 8 | Bryan\n",
      "City not found. Skipping...\n",
      "Processing Record 47 of Set 8 | Lohāru\n",
      "Processing Record 48 of Set 8 | Basoko\n",
      "Processing Record 49 of Set 8 | Xiaoweizhai\n",
      "Processing Record 50 of Set 8 | Khanbari\n",
      "Processing Record 1 of Set 9 | Makakilo City\n",
      "Processing Record 2 of Set 9 | Mayor Pablo Lagerenza\n",
      "Processing Record 3 of Set 9 | Banjar\n",
      "Processing Record 4 of Set 9 | Karlskrona\n",
      "Processing Record 5 of Set 9 | Gizo Government Station\n",
      "Processing Record 6 of Set 9 | Kang\n",
      "Processing Record 7 of Set 9 | Chekhov\n",
      "Processing Record 8 of Set 9 | Sterlibashevo\n",
      "Processing Record 9 of Set 9 | Marfino\n",
      "Processing Record 10 of Set 9 | São Miguel do Araguaia\n",
      "Processing Record 11 of Set 9 | Lichuan\n",
      "Processing Record 12 of Set 9 | Ribas do Rio Pardo\n",
      "Processing Record 13 of Set 9 | Marzuq\n",
      "Processing Record 14 of Set 9 | Konde\n",
      "Processing Record 15 of Set 9 | Tuatapere\n",
      "Processing Record 16 of Set 9 | Saquena\n",
      "Processing Record 17 of Set 9 | Malazgirt\n",
      "Processing Record 18 of Set 9 | Viedma\n",
      "Processing Record 19 of Set 9 | Buraidah\n",
      "Processing Record 20 of Set 9 | Cidreira\n",
      "Processing Record 21 of Set 9 | Saint-Paul\n",
      "Processing Record 22 of Set 9 | Nueva Gerona\n",
      "Processing Record 23 of Set 9 | Saint-Pierre\n",
      "Processing Record 24 of Set 9 | Westport\n",
      "Processing Record 25 of Set 9 | Neftçala\n",
      "Processing Record 26 of Set 9 | Lakselv\n",
      "Processing Record 27 of Set 9 | Thinadhoo\n",
      "Processing Record 28 of Set 9 | Darhan\n",
      "Processing Record 29 of Set 9 | Fukuechō\n",
      "Processing Record 30 of Set 9 | Nemuro\n",
      "Processing Record 31 of Set 9 | Fenoarivo\n",
      "Processing Record 32 of Set 9 | Yerofey Pavlovich\n",
      "Processing Record 33 of Set 9 | Aklavik\n",
      "Processing Record 34 of Set 9 | Olafsvik\n",
      "Processing Record 35 of Set 9 | Lagoa\n",
      "Processing Record 36 of Set 9 | Knysna\n",
      "Processing Record 37 of Set 9 | Wencheng\n",
      "Processing Record 38 of Set 9 | Maumere\n",
      "Processing Record 39 of Set 9 | Hirara\n",
      "Processing Record 40 of Set 9 | Christchurch\n",
      "City not found. Skipping...\n",
      "City not found. Skipping...\n",
      "Processing Record 41 of Set 9 | Taltal\n",
      "Processing Record 42 of Set 9 | Adeje\n",
      "Processing Record 43 of Set 9 | Kilindoni\n",
      "Processing Record 44 of Set 9 | Vila Franca do Campo\n",
      "Processing Record 45 of Set 9 | Neiafu\n",
      "Processing Record 46 of Set 9 | Coyhaique\n",
      "Processing Record 47 of Set 9 | Taoudenni\n",
      "Processing Record 48 of Set 9 | Bonthe\n",
      "Processing Record 49 of Set 9 | Maceió\n",
      "Processing Record 50 of Set 9 | Batemans Bay\n",
      "Processing Record 1 of Set 10 | The Pas\n",
      "Processing Record 2 of Set 10 | Tadine\n",
      "Processing Record 3 of Set 10 | La Paz\n",
      "Processing Record 4 of Set 10 | La Ronge\n",
      "Processing Record 5 of Set 10 | Khorixas\n",
      "Processing Record 6 of Set 10 | Omaha\n",
      "Processing Record 7 of Set 10 | Ise\n",
      "Processing Record 8 of Set 10 | Banisilan\n",
      "City not found. Skipping...\n",
      "City not found. Skipping...\n",
      "Processing Record 9 of Set 10 | Leshan\n",
      "Processing Record 10 of Set 10 | Zonguldak\n",
      "Processing Record 11 of Set 10 | Scarborough\n",
      "Processing Record 12 of Set 10 | Lere\n",
      "Processing Record 13 of Set 10 | Le Port\n",
      "Processing Record 14 of Set 10 | Aksha\n",
      "Processing Record 15 of Set 10 | Cap-Chat\n",
      "Processing Record 16 of Set 10 | Belyy Yar\n",
      "Processing Record 17 of Set 10 | Ola\n",
      "Processing Record 18 of Set 10 | Kahului\n",
      "Processing Record 19 of Set 10 | Nanning\n",
      "Processing Record 20 of Set 10 | Kysyl-Syr\n",
      "Processing Record 21 of Set 10 | Lodja\n",
      "Processing Record 22 of Set 10 | Lusambo\n",
      "Processing Record 23 of Set 10 | Øksfjord\n",
      "Processing Record 24 of Set 10 | São José da Coroa Grande\n",
      "Processing Record 25 of Set 10 | Saint-Joseph\n",
      "City not found. Skipping...\n",
      "Processing Record 26 of Set 10 | Stantsionno-Oyashinskiy\n",
      "Processing Record 27 of Set 10 | Gilbués\n",
      "Processing Record 28 of Set 10 | Savannah Bight\n",
      "Processing Record 29 of Set 10 | Galle\n",
      "Processing Record 30 of Set 10 | Sabinas\n",
      "Processing Record 31 of Set 10 | Oranjestad\n",
      "Processing Record 32 of Set 10 | Lavrentiya\n",
      "Processing Record 33 of Set 10 | Port Hardy\n",
      "Processing Record 34 of Set 10 | Rawson\n",
      "Processing Record 35 of Set 10 | Kemijärvi\n",
      "Processing Record 36 of Set 10 | Ankazoabo\n",
      "Processing Record 37 of Set 10 | Sur\n",
      "Processing Record 38 of Set 10 | Tlacojalpan\n",
      "Processing Record 39 of Set 10 | Conde\n",
      "Processing Record 40 of Set 10 | Arrondissement d'Arcachon\n",
      "Processing Record 41 of Set 10 | Sergeevka\n",
      "Processing Record 42 of Set 10 | Tarakan\n",
      "Processing Record 43 of Set 10 | Robertsport\n",
      "Processing Record 44 of Set 10 | Kushmurun\n",
      "Processing Record 45 of Set 10 | Ahipara\n",
      "Processing Record 46 of Set 10 | Halifax\n",
      "Processing Record 47 of Set 10 | Nara\n",
      "Processing Record 48 of Set 10 | Puerto Madero\n",
      "Processing Record 49 of Set 10 | Shimoda\n",
      "Processing Record 50 of Set 10 | Nguru\n",
      "Processing Record 1 of Set 11 | Sobolevo\n",
      "Processing Record 2 of Set 11 | Zhigansk\n",
      "Processing Record 3 of Set 11 | Asău\n",
      "Processing Record 4 of Set 11 | Amherst\n",
      "Processing Record 5 of Set 11 | Khāsh\n",
      "Processing Record 6 of Set 11 | Aracati\n",
      "Processing Record 7 of Set 11 | Prome\n",
      "Processing Record 8 of Set 11 | Nouakchott\n",
      "Processing Record 9 of Set 11 | Chemal\n",
      "Processing Record 10 of Set 11 | Wucheng\n",
      "Processing Record 11 of Set 11 | Iqaluit\n",
      "Processing Record 12 of Set 11 | Dongsheng\n",
      "Processing Record 13 of Set 11 | Leningradskiy\n",
      "Processing Record 14 of Set 11 | Tutóia\n",
      "Processing Record 15 of Set 11 | Arrondissement de Saint-Jean-de-Maurienne\n",
      "Processing Record 16 of Set 11 | Sisak\n",
      "Processing Record 17 of Set 11 | Ngunguru\n",
      "Processing Record 18 of Set 11 | Vanimo\n",
      "Processing Record 19 of Set 11 | Mahanoro\n",
      "Processing Record 20 of Set 11 | Aswān\n",
      "Processing Record 21 of Set 11 | Khovu-Aksy\n",
      "Processing Record 22 of Set 11 | Marystown\n",
      "Processing Record 23 of Set 11 | Sabzawār\n",
      "City not found. Skipping...\n",
      "Processing Record 24 of Set 11 | Tambura\n",
      "Processing Record 25 of Set 11 | Polunochnoye\n",
      "Processing Record 26 of Set 11 | Pontianak\n",
      "Processing Record 27 of Set 11 | Dunedin\n",
      "Processing Record 28 of Set 11 | Mongoumba\n",
      "Processing Record 29 of Set 11 | Baykit\n",
      "Processing Record 30 of Set 11 | Shingū\n",
      "City not found. Skipping...\n",
      "Processing Record 31 of Set 11 | Roald\n",
      "Processing Record 32 of Set 11 | Teya\n",
      "City not found. Skipping...\n",
      "Processing Record 33 of Set 11 | Petrovsk\n",
      "Processing Record 34 of Set 11 | Rauma\n",
      "City not found. Skipping...\n",
      "Processing Record 35 of Set 11 | Florianópolis\n",
      "Processing Record 36 of Set 11 | Ust-Nera\n",
      "Processing Record 37 of Set 11 | Laguna\n",
      "Processing Record 38 of Set 11 | Port Hueneme\n",
      "Processing Record 39 of Set 11 | Morristown\n",
      "Processing Record 40 of Set 11 | Santa Barbara\n",
      "Processing Record 41 of Set 11 | Mongo\n",
      "City not found. Skipping...\n",
      "Processing Record 42 of Set 11 | North Platte\n",
      "City not found. Skipping...\n",
      "Processing Record 43 of Set 11 | Bereznehuvate\n",
      "Processing Record 44 of Set 11 | Ucluelet\n",
      "Processing Record 45 of Set 11 | Grand-Santi\n",
      "Processing Record 46 of Set 11 | Nouadhibou\n",
      "Processing Record 47 of Set 11 | Vieques\n",
      "Processing Record 48 of Set 11 | Boralday\n",
      "Processing Record 49 of Set 11 | Alzamay\n",
      "Processing Record 50 of Set 11 | Correia Pinto\n",
      "City not found. Skipping...\n",
      "Processing Record 1 of Set 12 | Spremberg\n",
      "Processing Record 2 of Set 12 | Martapura\n",
      "Processing Record 3 of Set 12 | Ati\n",
      "Processing Record 4 of Set 12 | Poltava\n",
      "Processing Record 5 of Set 12 | Hamilton\n",
      "Processing Record 6 of Set 12 | Ballina\n",
      "Processing Record 7 of Set 12 | Kindu\n",
      "Processing Record 8 of Set 12 | Baruun-Urt\n"
     ]
    },
    {
     "output_type": "stream",
     "name": "stdout",
     "text": [
      "Processing Record 9 of Set 12 | Kurchum\n",
      "Processing Record 10 of Set 12 | Senador José Porfírio\n",
      "Processing Record 11 of Set 12 | Vostok\n",
      "Processing Record 12 of Set 12 | Fairview\n",
      "Processing Record 13 of Set 12 | Taree\n",
      "Processing Record 14 of Set 12 | Cabedelo\n",
      "Processing Record 15 of Set 12 | Samaná\n",
      "Processing Record 16 of Set 12 | Abu Dhabi\n",
      "Processing Record 17 of Set 12 | Wagga Wagga\n",
      "Processing Record 18 of Set 12 | Barra do Garças\n",
      "Processing Record 19 of Set 12 | Ryomgård\n",
      "-----------------------------\n",
      "Data Retrieval Complete      \n",
      "-----------------------------\n"
     ]
    }
   ],
   "metadata": {}
  },
  {
   "cell_type": "code",
   "execution_count": null,
   "source": [],
   "outputs": [],
   "metadata": {
    "scrolled": true
   }
  },
  {
   "cell_type": "markdown",
   "source": [
    "### Convert Raw Data to DataFrame\n",
    "* Export the city data into a .csv.\n",
    "* Display the DataFrame"
   ],
   "metadata": {}
  },
  {
   "cell_type": "code",
   "execution_count": 4,
   "source": [
    "df = pd.DataFrame(city_data)\n",
    "df.to_csv(\"city_data\",encoding='utf-8', index=False)"
   ],
   "outputs": [],
   "metadata": {}
  },
  {
   "cell_type": "code",
   "execution_count": 5,
   "source": [
    "df.head()"
   ],
   "outputs": [
    {
     "output_type": "execute_result",
     "data": {
      "text/plain": [
       "                    City      Lat       Lng  Max Temp  Humidity  Cloudiness  \\\n",
       "0                  Vaini -21.2000 -175.2000     78.96        73          20   \n",
       "1                Ushuaia -54.8000  -68.3000     35.26        80          90   \n",
       "2             Bredasdorp -34.5322   20.0403     49.32        87          24   \n",
       "3  Peñarroya-Pueblonuevo  38.3000   -5.2667     57.45        48          43   \n",
       "4           Puerto Ayora  -0.7393  -90.3518     69.26        87          90   \n",
       "\n",
       "   Wind Speed Country        Date  \n",
       "0       11.50      TO  1635034722  \n",
       "1       18.41      AR  1635034628  \n",
       "2        4.61      ZA  1635034724  \n",
       "3        2.10      ES  1635034937  \n",
       "4        9.22      EC  1635034717  "
      ],
      "text/html": [
       "<div>\n",
       "<style scoped>\n",
       "    .dataframe tbody tr th:only-of-type {\n",
       "        vertical-align: middle;\n",
       "    }\n",
       "\n",
       "    .dataframe tbody tr th {\n",
       "        vertical-align: top;\n",
       "    }\n",
       "\n",
       "    .dataframe thead th {\n",
       "        text-align: right;\n",
       "    }\n",
       "</style>\n",
       "<table border=\"1\" class=\"dataframe\">\n",
       "  <thead>\n",
       "    <tr style=\"text-align: right;\">\n",
       "      <th></th>\n",
       "      <th>City</th>\n",
       "      <th>Lat</th>\n",
       "      <th>Lng</th>\n",
       "      <th>Max Temp</th>\n",
       "      <th>Humidity</th>\n",
       "      <th>Cloudiness</th>\n",
       "      <th>Wind Speed</th>\n",
       "      <th>Country</th>\n",
       "      <th>Date</th>\n",
       "    </tr>\n",
       "  </thead>\n",
       "  <tbody>\n",
       "    <tr>\n",
       "      <th>0</th>\n",
       "      <td>Vaini</td>\n",
       "      <td>-21.2000</td>\n",
       "      <td>-175.2000</td>\n",
       "      <td>78.96</td>\n",
       "      <td>73</td>\n",
       "      <td>20</td>\n",
       "      <td>11.50</td>\n",
       "      <td>TO</td>\n",
       "      <td>1635034722</td>\n",
       "    </tr>\n",
       "    <tr>\n",
       "      <th>1</th>\n",
       "      <td>Ushuaia</td>\n",
       "      <td>-54.8000</td>\n",
       "      <td>-68.3000</td>\n",
       "      <td>35.26</td>\n",
       "      <td>80</td>\n",
       "      <td>90</td>\n",
       "      <td>18.41</td>\n",
       "      <td>AR</td>\n",
       "      <td>1635034628</td>\n",
       "    </tr>\n",
       "    <tr>\n",
       "      <th>2</th>\n",
       "      <td>Bredasdorp</td>\n",
       "      <td>-34.5322</td>\n",
       "      <td>20.0403</td>\n",
       "      <td>49.32</td>\n",
       "      <td>87</td>\n",
       "      <td>24</td>\n",
       "      <td>4.61</td>\n",
       "      <td>ZA</td>\n",
       "      <td>1635034724</td>\n",
       "    </tr>\n",
       "    <tr>\n",
       "      <th>3</th>\n",
       "      <td>Peñarroya-Pueblonuevo</td>\n",
       "      <td>38.3000</td>\n",
       "      <td>-5.2667</td>\n",
       "      <td>57.45</td>\n",
       "      <td>48</td>\n",
       "      <td>43</td>\n",
       "      <td>2.10</td>\n",
       "      <td>ES</td>\n",
       "      <td>1635034937</td>\n",
       "    </tr>\n",
       "    <tr>\n",
       "      <th>4</th>\n",
       "      <td>Puerto Ayora</td>\n",
       "      <td>-0.7393</td>\n",
       "      <td>-90.3518</td>\n",
       "      <td>69.26</td>\n",
       "      <td>87</td>\n",
       "      <td>90</td>\n",
       "      <td>9.22</td>\n",
       "      <td>EC</td>\n",
       "      <td>1635034717</td>\n",
       "    </tr>\n",
       "  </tbody>\n",
       "</table>\n",
       "</div>"
      ]
     },
     "metadata": {},
     "execution_count": 5
    }
   ],
   "metadata": {}
  },
  {
   "cell_type": "code",
   "execution_count": null,
   "source": [],
   "outputs": [],
   "metadata": {
    "scrolled": true
   }
  },
  {
   "cell_type": "code",
   "execution_count": 6,
   "source": [
    "df.describe()"
   ],
   "outputs": [
    {
     "output_type": "execute_result",
     "data": {
      "text/plain": [
       "              Lat         Lng    Max Temp    Humidity  Cloudiness  Wind Speed  \\\n",
       "count  569.000000  569.000000  569.000000  569.000000  569.000000  569.000000   \n",
       "mean    19.193599   22.869058   59.926608   72.924429   57.456942    7.638893   \n",
       "std     33.426081   89.162704   20.235584   18.641340   37.527905    5.450586   \n",
       "min    -54.800000 -175.200000   -6.720000   10.000000    0.000000    0.000000   \n",
       "25%     -8.190000  -53.673500   45.720000   64.000000   20.000000    3.400000   \n",
       "50%     22.678300   25.570100   63.360000   77.000000   71.000000    6.670000   \n",
       "75%     48.583900  107.512500   77.160000   86.000000   93.000000   10.600000   \n",
       "max     78.218600  178.416700   94.500000  100.000000  100.000000   30.800000   \n",
       "\n",
       "               Date  \n",
       "count  5.690000e+02  \n",
       "mean   1.635035e+09  \n",
       "std    1.434692e+02  \n",
       "min    1.635034e+09  \n",
       "25%    1.635035e+09  \n",
       "50%    1.635035e+09  \n",
       "75%    1.635035e+09  \n",
       "max    1.635035e+09  "
      ],
      "text/html": [
       "<div>\n",
       "<style scoped>\n",
       "    .dataframe tbody tr th:only-of-type {\n",
       "        vertical-align: middle;\n",
       "    }\n",
       "\n",
       "    .dataframe tbody tr th {\n",
       "        vertical-align: top;\n",
       "    }\n",
       "\n",
       "    .dataframe thead th {\n",
       "        text-align: right;\n",
       "    }\n",
       "</style>\n",
       "<table border=\"1\" class=\"dataframe\">\n",
       "  <thead>\n",
       "    <tr style=\"text-align: right;\">\n",
       "      <th></th>\n",
       "      <th>Lat</th>\n",
       "      <th>Lng</th>\n",
       "      <th>Max Temp</th>\n",
       "      <th>Humidity</th>\n",
       "      <th>Cloudiness</th>\n",
       "      <th>Wind Speed</th>\n",
       "      <th>Date</th>\n",
       "    </tr>\n",
       "  </thead>\n",
       "  <tbody>\n",
       "    <tr>\n",
       "      <th>count</th>\n",
       "      <td>569.000000</td>\n",
       "      <td>569.000000</td>\n",
       "      <td>569.000000</td>\n",
       "      <td>569.000000</td>\n",
       "      <td>569.000000</td>\n",
       "      <td>569.000000</td>\n",
       "      <td>5.690000e+02</td>\n",
       "    </tr>\n",
       "    <tr>\n",
       "      <th>mean</th>\n",
       "      <td>19.193599</td>\n",
       "      <td>22.869058</td>\n",
       "      <td>59.926608</td>\n",
       "      <td>72.924429</td>\n",
       "      <td>57.456942</td>\n",
       "      <td>7.638893</td>\n",
       "      <td>1.635035e+09</td>\n",
       "    </tr>\n",
       "    <tr>\n",
       "      <th>std</th>\n",
       "      <td>33.426081</td>\n",
       "      <td>89.162704</td>\n",
       "      <td>20.235584</td>\n",
       "      <td>18.641340</td>\n",
       "      <td>37.527905</td>\n",
       "      <td>5.450586</td>\n",
       "      <td>1.434692e+02</td>\n",
       "    </tr>\n",
       "    <tr>\n",
       "      <th>min</th>\n",
       "      <td>-54.800000</td>\n",
       "      <td>-175.200000</td>\n",
       "      <td>-6.720000</td>\n",
       "      <td>10.000000</td>\n",
       "      <td>0.000000</td>\n",
       "      <td>0.000000</td>\n",
       "      <td>1.635034e+09</td>\n",
       "    </tr>\n",
       "    <tr>\n",
       "      <th>25%</th>\n",
       "      <td>-8.190000</td>\n",
       "      <td>-53.673500</td>\n",
       "      <td>45.720000</td>\n",
       "      <td>64.000000</td>\n",
       "      <td>20.000000</td>\n",
       "      <td>3.400000</td>\n",
       "      <td>1.635035e+09</td>\n",
       "    </tr>\n",
       "    <tr>\n",
       "      <th>50%</th>\n",
       "      <td>22.678300</td>\n",
       "      <td>25.570100</td>\n",
       "      <td>63.360000</td>\n",
       "      <td>77.000000</td>\n",
       "      <td>71.000000</td>\n",
       "      <td>6.670000</td>\n",
       "      <td>1.635035e+09</td>\n",
       "    </tr>\n",
       "    <tr>\n",
       "      <th>75%</th>\n",
       "      <td>48.583900</td>\n",
       "      <td>107.512500</td>\n",
       "      <td>77.160000</td>\n",
       "      <td>86.000000</td>\n",
       "      <td>93.000000</td>\n",
       "      <td>10.600000</td>\n",
       "      <td>1.635035e+09</td>\n",
       "    </tr>\n",
       "    <tr>\n",
       "      <th>max</th>\n",
       "      <td>78.218600</td>\n",
       "      <td>178.416700</td>\n",
       "      <td>94.500000</td>\n",
       "      <td>100.000000</td>\n",
       "      <td>100.000000</td>\n",
       "      <td>30.800000</td>\n",
       "      <td>1.635035e+09</td>\n",
       "    </tr>\n",
       "  </tbody>\n",
       "</table>\n",
       "</div>"
      ]
     },
     "metadata": {},
     "execution_count": 6
    }
   ],
   "metadata": {}
  },
  {
   "cell_type": "code",
   "execution_count": null,
   "source": [],
   "outputs": [],
   "metadata": {
    "scrolled": false
   }
  },
  {
   "cell_type": "markdown",
   "source": [
    "## Inspect the data and remove the cities where the humidity > 100%.\n",
    "----\n",
    "Skip this step if there are no cities that have humidity > 100%. "
   ],
   "metadata": {}
  },
  {
   "cell_type": "code",
   "execution_count": 7,
   "source": [
    "#check for cities with humidity over 100%\n",
    "df[\"Humidity\"].unique()"
   ],
   "outputs": [
    {
     "output_type": "execute_result",
     "data": {
      "text/plain": [
       "array([ 73,  80,  87,  48,  65,  71,  75,  79,  76,  77,  92,  82,  57,\n",
       "        72,  95,  84,  66,  68,  78,  86,  70,  69,  81,  62,  64,  94,\n",
       "        90,  67,  63,  89,  85,  93,  58,  98,  45,  59,  50,  16,  51,\n",
       "        83,  88,  19,  21,  49,  74,  56,  91,  61,  99, 100,  46,  39,\n",
       "        60,  96,  23,  97,  22,  26,  15,  31,  42,  29,  18,  43,  34,\n",
       "        54,  30,  44,  33,  37,  24,  53,  28,  14,  20,  32,  27,  55,\n",
       "        41,  52,  10])"
      ]
     },
     "metadata": {},
     "execution_count": 7
    }
   ],
   "metadata": {
    "scrolled": true
   }
  },
  {
   "cell_type": "code",
   "execution_count": null,
   "source": [],
   "outputs": [],
   "metadata": {}
  },
  {
   "cell_type": "code",
   "execution_count": 8,
   "source": [
    "#  Get the indices of cities that have humidity over 100%.\n"
   ],
   "outputs": [],
   "metadata": {}
  },
  {
   "cell_type": "code",
   "execution_count": 9,
   "source": [
    "# Make a new DataFrame equal to the city data to drop all humidity outliers by index.\n",
    "# Passing \"inplace=False\" will make a copy of the city_data DataFrame, which we call \"clean_city_data\".\n"
   ],
   "outputs": [],
   "metadata": {}
  },
  {
   "cell_type": "code",
   "execution_count": null,
   "source": [
    "\n"
   ],
   "outputs": [],
   "metadata": {}
  },
  {
   "cell_type": "markdown",
   "source": [
    "## Plotting the Data\n",
    "* Use proper labeling of the plots using plot titles (including date of analysis) and axes labels.\n",
    "* Save the plotted figures as .pngs."
   ],
   "metadata": {}
  },
  {
   "cell_type": "markdown",
   "source": [
    "## Latitude vs. Temperature Plot"
   ],
   "metadata": {}
  },
  {
   "cell_type": "code",
   "execution_count": 10,
   "source": [
    "renamed_df = df.rename(columns={'Lat': 'Latitude', \n",
    "                        'Max Temp': 'Max Temperature (F)',\n",
    "                        'Humidity': 'Humidity (%)',\n",
    "                        'Cloudiness': 'Cloudiness (%)',\n",
    "                        'Wind Speed': 'Wind Speed (mph)'\n",
    "                       })\n"
   ],
   "outputs": [],
   "metadata": {}
  },
  {
   "cell_type": "code",
   "execution_count": 11,
   "source": [
    "x_values = renamed_df[\"Latitude\"]\n",
    "y_values = renamed_df[\"Max Temperature (F)\"]\n",
    "\n",
    "plt.scatter(x_values,y_values)\n",
    "plt.xlabel(\"Latitude\")\n",
    "plt.ylabel(\"Max Temperature (F)\")\n",
    "plt.title(\"City Latitude vs. Max Temperature(10/23/2021)\")\n",
    "plt.show()\n",
    "plt.savefig('Latitude vs. Temperature Plot.png')"
   ],
   "outputs": [
    {
     "output_type": "display_data",
     "data": {
      "text/plain": [
       "<Figure size 432x288 with 1 Axes>"
      ],
      "image/png": "[encoded data removed]"
     },
     "metadata": {
      "needs_background": "light"
     }
    },
    {
     "output_type": "display_data",
     "data": {
      "text/plain": [
       "<Figure size 432x288 with 0 Axes>"
      ]
     },
     "metadata": {}
    }
   ],
   "metadata": {}
  },
  {
   "cell_type": "code",
   "execution_count": null,
   "source": [],
   "outputs": [],
   "metadata": {
    "scrolled": true
   }
  },
  {
   "cell_type": "markdown",
   "source": [
    "## Latitude vs. Humidity Plot"
   ],
   "metadata": {}
  },
  {
   "cell_type": "code",
   "execution_count": 12,
   "source": [
    "x_values = renamed_df[\"Latitude\"]\n",
    "y_values = renamed_df[\"Humidity (%)\"]\n",
    "\n",
    "plt.scatter(x_values,y_values)\n",
    "plt.xlabel(\"Latitude\")\n",
    "plt.ylabel(\"Humidity (%)\")\n",
    "plt.title(\"City Latitude vs. Humidity(10/23/2021)\")\n",
    "plt.show()\n",
    "plt.savefig('Latitude vs. Humidity Plot.png')"
   ],
   "outputs": [
    {
     "output_type": "display_data",
     "data": {
      "text/plain": [
       "<Figure size 432x288 with 1 Axes>"
      ],
      "image/png": "[encoded data removed]"
     },
     "metadata": {
      "needs_background": "light"
     }
    },
    {
     "output_type": "display_data",
     "data": {
      "text/plain": [
       "<Figure size 432x288 with 0 Axes>"
      ]
     },
     "metadata": {}
    }
   ],
   "metadata": {}
  },
  {
   "cell_type": "code",
   "execution_count": null,
   "source": [],
   "outputs": [],
   "metadata": {
    "scrolled": true
   }
  },
  {
   "cell_type": "markdown",
   "source": [
    "## Latitude vs. Cloudiness Plot"
   ],
   "metadata": {}
  },
  {
   "cell_type": "code",
   "execution_count": 13,
   "source": [
    "x_values = renamed_df[\"Latitude\"]\n",
    "y_values = renamed_df[\"Cloudiness (%)\"]\n",
    "\n",
    "plt.scatter(x_values,y_values)\n",
    "plt.xlabel(\"Latitude\")\n",
    "plt.ylabel(\"Humidity (%)\")\n",
    "plt.title(\"City Latitude vs. Cloudiness(10/23/2021)\")\n",
    "plt.show()\n",
    "plt.savefig('Latitude vs. Cloudiness Plot.png')"
   ],
   "outputs": [
    {
     "output_type": "display_data",
     "data": {
      "text/plain": [
       "<Figure size 432x288 with 1 Axes>"
      ],
      "image/png": "[encoded data removed]"
     },
     "metadata": {
      "needs_background": "light"
     }
    },
    {
     "output_type": "display_data",
     "data": {
      "text/plain": [
       "<Figure size 432x288 with 0 Axes>"
      ]
     },
     "metadata": {}
    }
   ],
   "metadata": {}
  },
  {
   "cell_type": "code",
   "execution_count": null,
   "source": [],
   "outputs": [],
   "metadata": {}
  },
  {
   "cell_type": "markdown",
   "source": [
    "## Latitude vs. Wind Speed Plot"
   ],
   "metadata": {}
  },
  {
   "cell_type": "code",
   "execution_count": 14,
   "source": [
    "x_values = renamed_df[\"Latitude\"]\n",
    "y_values = renamed_df[\"Wind Speed (mph)\"]\n",
    "\n",
    "plt.scatter(x_values,y_values)\n",
    "plt.xlabel(\"Latitude\")\n",
    "plt.ylabel(\"Humidity (%)\")\n",
    "plt.title(\"City Latitude vs. Wind Speed(10/23/2021)\")\n",
    "plt.show()\n",
    "plt.savefig('Latitude vs. Wind Speed Plot.png')"
   ],
   "outputs": [
    {
     "output_type": "display_data",
     "data": {
      "text/plain": [
       "<Figure size 432x288 with 1 Axes>"
      ],
      "image/png": "[encoded data removed]"
     },
     "metadata": {
      "needs_background": "light"
     }
    },
    {
     "output_type": "display_data",
     "data": {
      "text/plain": [
       "<Figure size 432x288 with 0 Axes>"
      ]
     },
     "metadata": {}
    }
   ],
   "metadata": {}
  },
  {
   "cell_type": "code",
   "execution_count": null,
   "source": [],
   "outputs": [],
   "metadata": {}
  },
  {
   "cell_type": "markdown",
   "source": [
    "## Linear Regression"
   ],
   "metadata": {}
  },
  {
   "cell_type": "code",
   "execution_count": 15,
   "source": [
    "north_df = renamed_df"
   ],
   "outputs": [],
   "metadata": {}
  },
  {
   "cell_type": "code",
   "execution_count": 16,
   "source": [
    "north_df.drop(north_df.loc[north_df[\"Latitude\"]<0].index, inplace=True)\n"
   ],
   "outputs": [],
   "metadata": {}
  },
  {
   "cell_type": "markdown",
   "source": [
    "####  Northern Hemisphere - Max Temp vs. Latitude Linear Regression"
   ],
   "metadata": {}
  },
  {
   "cell_type": "code",
   "execution_count": 17,
   "source": [
    "north_df\n",
    "x_values = north_df[\"Latitude\"]\n",
    "y_values = north_df[\"Max Temperature (F)\"]\n",
    "\n",
    "# Perform a linear regression on temperature vs. latitude\n",
    "(slope, intercept, rvalue, pvalue, stderr) = stats.linregress(x_values, y_values)\n",
    "\n",
    "# # Get regression values\n",
    "regress_values = x_values * slope + intercept\n",
    "\n",
    "\n",
    "# # Create line equation string\n",
    "line_eq = \"y = \" + str(round(slope,2)) + \"x +\" + str(round(intercept,2))\n",
    "\n",
    "\n",
    "\n",
    "plt.scatter(x_values,y_values)\n",
    "plt.plot(x_values,regress_values,\"r-\")\n",
    "plt.xlabel(\"Latitude\")\n",
    "plt.ylabel(\"Max Temp\")\n",
    "print(f\"The r-value is: {rvalue**2}\")\n",
    "plt.show()\n",
    "plt.savefig('Northern Hemisphere - Max Temp vs. Latitude Linear Regression.png')\n"
   ],
   "outputs": [
    {
     "output_type": "stream",
     "name": "stdout",
     "text": [
      "The r-value is: 0.7902605523444953\n"
     ]
    },
    {
     "output_type": "display_data",
     "data": {
      "text/plain": [
       "<Figure size 432x288 with 1 Axes>"
      ],
      "image/png": "[encoded data removed]"
     },
     "metadata": {
      "needs_background": "light"
     }
    },
    {
     "output_type": "display_data",
     "data": {
      "text/plain": [
       "<Figure size 432x288 with 0 Axes>"
      ]
     },
     "metadata": {}
    }
   ],
   "metadata": {
    "scrolled": true
   }
  },
  {
   "cell_type": "code",
   "execution_count": null,
   "source": [
    "\n",
    "\n"
   ],
   "outputs": [],
   "metadata": {}
  },
  {
   "cell_type": "markdown",
   "source": [
    "####  Southern Hemisphere - Max Temp vs. Latitude Linear Regression"
   ],
   "metadata": {}
  },
  {
   "cell_type": "code",
   "execution_count": 18,
   "source": [
    "south_df = df\n",
    "south_df.drop(south_df.loc[south_df[\"Lat\"]>0].index, inplace=True)\n",
    "x_values = south_df[\"Lat\"]\n",
    "y_values = south_df[\"Max Temp\"]\n",
    "\n",
    "# Perform a linear regression on temperature vs. latitude\n",
    "(slope, intercept, rvalue, pvalue, stderr) = stats.linregress(x_values, y_values)\n",
    "\n",
    "# Get regression values\n",
    "regress_values = x_values * slope + intercept\n",
    "\n",
    "\n",
    "# Create line equation string\n",
    "line_eq = \"y = \" + str(round(slope,2)) + \"x +\" + str(round(intercept,2))\n",
    "\n",
    "\n",
    "\n",
    "plt.scatter(x_values,y_values)\n",
    "plt.plot(x_values,regress_values,\"r-\")\n",
    "plt.xlabel(\"Latitude\")\n",
    "plt.ylabel(\"Max Temp\")\n",
    "plt.annotate(line_eq,(20,15),fontsize=15,color=\"red\")\n",
    "print(f\"The r-value is: {rvalue**2}\")\n",
    "plt.show()\n",
    "plt.savefig('Southern Hemisphere - Max Temp vs. Latitude Linear Regression.png')"
   ],
   "outputs": [
    {
     "output_type": "stream",
     "name": "stdout",
     "text": [
      "The r-value is: 0.47507214886287974\n"
     ]
    },
    {
     "output_type": "display_data",
     "data": {
      "text/plain": [
       "<Figure size 432x288 with 1 Axes>"
      ],
      "image/png": "[encoded data removed]"
     },
     "metadata": {
      "needs_background": "light"
     }
    },
    {
     "output_type": "display_data",
     "data": {
      "text/plain": [
       "<Figure size 432x288 with 0 Axes>"
      ]
     },
     "metadata": {}
    }
   ],
   "metadata": {}
  },
  {
   "cell_type": "code",
   "execution_count": null,
   "source": [],
   "outputs": [],
   "metadata": {
    "scrolled": true
   }
  },
  {
   "cell_type": "markdown",
   "source": [
    "####  Northern Hemisphere - Humidity (%) vs. Latitude Linear Regression"
   ],
   "metadata": {}
  },
  {
   "cell_type": "code",
   "execution_count": 19,
   "source": [
    "x_values = north_df[\"Latitude\"]\n",
    "y_values = north_df[\"Humidity (%)\"]\n",
    "# Perform a linear regression on temperature vs. latitude\n",
    "(slope, intercept, rvalue, pvalue, stderr) = stats.linregress(x_values, y_values)\n",
    "\n",
    "# Get regression values\n",
    "regress_values = x_values * slope + intercept\n",
    "\n",
    "\n",
    "# Create line equation string\n",
    "line_eq = \"y = \" + str(round(slope,2)) + \"x +\" + str(round(intercept,2))\n",
    "\n",
    "plt.scatter(x_values,y_values)\n",
    "plt.plot(x_values,regress_values,\"r-\")\n",
    "plt.xlabel(\"Latitude\")\n",
    "plt.ylabel(\"Humidity\")\n",
    "plt.annotate(line_eq,(20,15),fontsize=15,color=\"red\")\n",
    "print(f\"The r-value is: {rvalue**2}\")\n",
    "plt.show()\n",
    "plt.savefig('Northern Hemisphere - Humidity (%) vs. Latitude Linear Regression.png')"
   ],
   "outputs": [
    {
     "output_type": "stream",
     "name": "stdout",
     "text": [
      "The r-value is: 0.02818762517378041\n"
     ]
    },
    {
     "output_type": "display_data",
     "data": {
      "text/plain": [
       "<Figure size 432x288 with 1 Axes>"
      ],
      "image/png": "[encoded data removed]"
     },
     "metadata": {
      "needs_background": "light"
     }
    },
    {
     "output_type": "display_data",
     "data": {
      "text/plain": [
       "<Figure size 432x288 with 0 Axes>"
      ]
     },
     "metadata": {}
    }
   ],
   "metadata": {}
  },
  {
   "cell_type": "code",
   "execution_count": null,
   "source": [],
   "outputs": [],
   "metadata": {}
  },
  {
   "cell_type": "markdown",
   "source": [
    "####  Southern Hemisphere - Humidity (%) vs. Latitude Linear Regression"
   ],
   "metadata": {}
  },
  {
   "cell_type": "code",
   "execution_count": 20,
   "source": [
    "x_values = south_df[\"Lat\"]\n",
    "y_values = south_df[\"Humidity\"]\n",
    "# Perform a linear regression on temperature vs. latitude\n",
    "(slope, intercept, rvalue, pvalue, stderr) = stats.linregress(x_values, y_values)\n",
    "\n",
    "# Get regression values\n",
    "regress_values = x_values * slope + intercept\n",
    "\n",
    "\n",
    "# Create line equation string\n",
    "line_eq = \"y = \" + str(round(slope,2)) + \"x +\" + str(round(intercept,2))\n",
    "\n",
    "\n",
    "\n",
    "plt.scatter(x_values,y_values)\n",
    "plt.plot(x_values,regress_values,\"r-\")\n",
    "plt.xlabel(\"Latitude\")\n",
    "plt.ylabel(\"Humidity\")\n",
    "plt.annotate(line_eq,(20,15),fontsize=15,color=\"red\")\n",
    "print(f\"The r-value is: {rvalue**2}\")\n",
    "plt.show()\n",
    "plt.savefig('Southern Hemisphere - Humidity (%) vs. Latitude Linear Regression.png')"
   ],
   "outputs": [
    {
     "output_type": "stream",
     "name": "stdout",
     "text": [
      "The r-value is: 0.02147940835979094\n"
     ]
    },
    {
     "output_type": "display_data",
     "data": {
      "text/plain": [
       "<Figure size 432x288 with 1 Axes>"
      ],
      "image/png": "[encoded data removed]"
     },
     "metadata": {
      "needs_background": "light"
     }
    },
    {
     "output_type": "display_data",
     "data": {
      "text/plain": [
       "<Figure size 432x288 with 0 Axes>"
      ]
     },
     "metadata": {}
    }
   ],
   "metadata": {}
  },
  {
   "cell_type": "code",
   "execution_count": null,
   "source": [],
   "outputs": [],
   "metadata": {}
  },
  {
   "cell_type": "markdown",
   "source": [
    "####  Northern Hemisphere - Cloudiness (%) vs. Latitude Linear Regression"
   ],
   "metadata": {}
  },
  {
   "cell_type": "code",
   "execution_count": 21,
   "source": [
    "x_values = north_df[\"Latitude\"]\n",
    "y_values = north_df[\"Cloudiness (%)\"]\n",
    "# Perform a linear regression on temperature vs. latitude\n",
    "(slope, intercept, rvalue, pvalue, stderr) = stats.linregress(x_values, y_values)\n",
    "\n",
    "# Get regression values\n",
    "regress_values = x_values * slope + intercept\n",
    "\n",
    "\n",
    "# Create line equation string\n",
    "line_eq = \"y = \" + str(round(slope,2)) + \"x +\" + str(round(intercept,2))\n",
    "\n",
    "plt.scatter(x_values,y_values)\n",
    "plt.plot(x_values,regress_values,\"r-\")\n",
    "plt.xlabel(\"Latitude\")\n",
    "plt.ylabel(\"Cloudiness\")\n",
    "plt.annotate(line_eq,(20,15),fontsize=15,color=\"red\")\n",
    "print(f\"The r-value is: {rvalue**2}\")\n",
    "plt.show()\n",
    "plt.savefig('Northern Hemisphere - Cloudiness (%) vs. Latitude Linear Regression.png')"
   ],
   "outputs": [
    {
     "output_type": "stream",
     "name": "stdout",
     "text": [
      "The r-value is: 0.030382158043703603\n"
     ]
    },
    {
     "output_type": "display_data",
     "data": {
      "text/plain": [
       "<Figure size 432x288 with 1 Axes>"
      ],
      "image/png": "[encoded data removed]"
     },
     "metadata": {
      "needs_background": "light"
     }
    },
    {
     "output_type": "display_data",
     "data": {
      "text/plain": [
       "<Figure size 432x288 with 0 Axes>"
      ]
     },
     "metadata": {}
    }
   ],
   "metadata": {}
  },
  {
   "cell_type": "code",
   "execution_count": null,
   "source": [],
   "outputs": [],
   "metadata": {
    "scrolled": true
   }
  },
  {
   "cell_type": "markdown",
   "source": [
    "####  Southern Hemisphere - Cloudiness (%) vs. Latitude Linear Regression"
   ],
   "metadata": {}
  },
  {
   "cell_type": "code",
   "execution_count": 22,
   "source": [
    "x_values = south_df[\"Lat\"]\n",
    "y_values = south_df[\"Cloudiness\"]\n",
    "# Perform a linear regression on temperature vs. latitude\n",
    "(slope, intercept, rvalue, pvalue, stderr) = stats.linregress(x_values, y_values)\n",
    "\n",
    "# Get regression values\n",
    "regress_values = x_values * slope + intercept\n",
    "\n",
    "\n",
    "# Create line equation string\n",
    "line_eq = \"y = \" + str(round(slope,2)) + \"x +\" + str(round(intercept,2))\n",
    "\n",
    "\n",
    "\n",
    "plt.scatter(x_values,y_values)\n",
    "plt.plot(x_values,regress_values,\"r-\")\n",
    "plt.xlabel(\"Latitude\")\n",
    "plt.ylabel(\"Cloudiness\")\n",
    "plt.annotate(line_eq,(20,15),fontsize=15,color=\"red\")\n",
    "print(f\"The r-value is: {rvalue**2}\")\n",
    "plt.show()\n",
    "plt.savefig('Southern Hemisphere - Cloudiness (%) vs. Latitude Linear Regression.png')"
   ],
   "outputs": [
    {
     "output_type": "stream",
     "name": "stdout",
     "text": [
      "The r-value is: 0.00638467305480798\n"
     ]
    },
    {
     "output_type": "display_data",
     "data": {
      "text/plain": [
       "<Figure size 432x288 with 1 Axes>"
      ],
      "image/png": "[encoded data removed]"
     },
     "metadata": {
      "needs_background": "light"
     }
    },
    {
     "output_type": "display_data",
     "data": {
      "text/plain": [
       "<Figure size 432x288 with 0 Axes>"
      ]
     },
     "metadata": {}
    }
   ],
   "metadata": {}
  },
  {
   "cell_type": "code",
   "execution_count": null,
   "source": [],
   "outputs": [],
   "metadata": {}
  },
  {
   "cell_type": "markdown",
   "source": [
    "####  Northern Hemisphere - Wind Speed (mph) vs. Latitude Linear Regression"
   ],
   "metadata": {}
  },
  {
   "cell_type": "code",
   "execution_count": 23,
   "source": [
    "x_values = north_df[\"Latitude\"]\n",
    "y_values = north_df[\"Wind Speed (mph)\"]\n",
    "# Perform a linear regression on temperature vs. latitude\n",
    "(slope, intercept, rvalue, pvalue, stderr) = stats.linregress(x_values, y_values)\n",
    "\n",
    "# Get regression values\n",
    "regress_values = x_values * slope + intercept\n",
    "\n",
    "\n",
    "# Create line equation string\n",
    "line_eq = \"y = \" + str(round(slope,2)) + \"x +\" + str(round(intercept,2))\n",
    "\n",
    "plt.scatter(x_values,y_values)\n",
    "plt.plot(x_values,regress_values,\"r-\")\n",
    "plt.xlabel(\"Latitude\")\n",
    "plt.ylabel(\"Wind Speeed\")\n",
    "plt.annotate(line_eq,(20,15),fontsize=15,color=\"red\")\n",
    "print(f\"The r-value is: {rvalue**2}\")\n",
    "\n",
    "plt.show()\n",
    "plt.savefig('Northern Hemisphere - Wind Speed (mph) vs. Latitude Linear Regression.png')\n"
   ],
   "outputs": [
    {
     "output_type": "stream",
     "name": "stdout",
     "text": [
      "The r-value is: 0.05556285376332275\n"
     ]
    },
    {
     "output_type": "display_data",
     "data": {
      "text/plain": [
       "<Figure size 432x288 with 1 Axes>"
      ],
      "image/png": "[encoded data removed]"
     },
     "metadata": {
      "needs_background": "light"
     }
    },
    {
     "output_type": "display_data",
     "data": {
      "text/plain": [
       "<Figure size 432x288 with 0 Axes>"
      ]
     },
     "metadata": {}
    }
   ],
   "metadata": {}
  },
  {
   "cell_type": "code",
   "execution_count": null,
   "source": [],
   "outputs": [],
   "metadata": {}
  },
  {
   "cell_type": "markdown",
   "source": [
    "####  Southern Hemisphere - Wind Speed (mph) vs. Latitude Linear Regression"
   ],
   "metadata": {}
  },
  {
   "cell_type": "code",
   "execution_count": 24,
   "source": [
    "x_values = south_df[\"Lat\"]\n",
    "y_values = south_df[\"Wind Speed\"]\n",
    "# Perform a linear regression on temperature vs. latitude\n",
    "(slope, intercept, rvalue, pvalue, stderr) = stats.linregress(x_values, y_values)\n",
    "\n",
    "# Get regression values\n",
    "regress_values = x_values * slope + intercept\n",
    "\n",
    "\n",
    "# Create line equation string\n",
    "line_eq = \"y = \" + str(round(slope,2)) + \"x +\" + str(round(intercept,2))\n",
    "\n",
    "\n",
    "\n",
    "plt.scatter(x_values,y_values)\n",
    "plt.plot(x_values,regress_values,\"r-\")\n",
    "plt.xlabel(\"Latitude\")\n",
    "plt.ylabel(\"Wind Speeed\")\n",
    "plt.annotate(line_eq,(20,15),fontsize=15,color=\"red\")\n",
    "print(f\"The r-value is: {rvalue**2}\")\n",
    "plt.show()\n",
    "plt.savefig('Southern Hemisphere - Wind Speed (mph) vs. Latitude Linear Regression.png')"
   ],
   "outputs": [
    {
     "output_type": "stream",
     "name": "stdout",
     "text": [
      "The r-value is: 0.08102706312767347\n"
     ]
    },
    {
     "output_type": "display_data",
     "data": {
      "text/plain": [
       "<Figure size 432x288 with 1 Axes>"
      ],
      "image/png": "[encoded data removed]"
     },
     "metadata": {
      "needs_background": "light"
     }
    },
    {
     "output_type": "display_data",
     "data": {
      "text/plain": [
       "<Figure size 432x288 with 0 Axes>"
      ]
     },
     "metadata": {}
    }
   ],
   "metadata": {}
  },
  {
   "cell_type": "markdown",
   "source": [],
   "metadata": {}
  },
  {
   "cell_type": "code",
   "execution_count": null,
   "source": [],
   "outputs": [],
   "metadata": {}
  },
  {
   "cell_type": "code",
   "execution_count": null,
   "source": [],
   "outputs": [],
   "metadata": {}
  }
 ],
 "metadata": {
  "anaconda-cloud": {},
  "interpreter": {
   "hash": "48c73e5c7c78995f8b25d4e8da74ab6ee4c16917fe41ccaa86234e49a495a49d"
  },
  "kernel_info": {
   "name": "python3"
  },
  "kernelspec": {
   "display_name": "Python 3",
   "language": "python",
   "name": "python3"
  },
  "language_info": {
   "codemirror_mode": {
    "name": "ipython",
    "version": 3
   },
   "file_extension": ".py",
   "mimetype": "text/x-python",
   "name": "python",
   "nbconvert_exporter": "python",
   "pygments_lexer": "ipython3",
   "version": "3.8.8"
  },
  "latex_envs": {
   "LaTeX_envs_menu_present": true,
   "autoclose": false,
   "autocomplete": true,
   "bibliofile": "biblio.bib",
   "cite_by": "apalike",
   "current_citInitial": 1,
   "eqLabelWithNumbers": true,
   "eqNumInitial": 1,
   "hotkeys": {
    "equation": "Ctrl-E",
    "itemize": "Ctrl-I"
   },
   "labels_anchors": false,
   "latex_user_defs": false,
   "report_style_numbering": false,
   "user_envs_cfg": false
  },
  "nteract": {
   "version": "0.12.3"
  }
 },
 "nbformat": 4,
 "nbformat_minor": 2
}